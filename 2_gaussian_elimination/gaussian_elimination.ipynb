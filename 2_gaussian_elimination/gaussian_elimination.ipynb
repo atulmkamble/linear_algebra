{
 "cells": [
  {
   "cell_type": "markdown",
   "id": "cf34750b-c471-488a-b8b5-8f86d33af4af",
   "metadata": {},
   "source": [
    "### Gaussian Elimination and Finding the Inverse Matrix"
   ]
  },
  {
   "cell_type": "code",
   "execution_count": 1,
   "id": "31112e5d-b027-4ef3-b7b0-67c447141eed",
   "metadata": {},
   "outputs": [],
   "source": [
    "import numpy as np"
   ]
  },
  {
   "cell_type": "code",
   "execution_count": 2,
   "id": "a9a2b42b-9d7a-46da-b6ef-407fd6b634af",
   "metadata": {},
   "outputs": [
    {
     "name": "stdout",
     "output_type": "stream",
     "text": [
      "Matrix A: [[1 2]\n",
      " [3 4]]\n",
      "Vector b: [ 5 11]\n"
     ]
    }
   ],
   "source": [
    "A = np.array([[1, 2], [3, 4]])\n",
    "b = np.array([5, 11])\n",
    "print('Matrix A:', A)\n",
    "print('Vector b:', b)"
   ]
  },
  {
   "cell_type": "code",
   "execution_count": 3,
   "id": "48ecbded-6fb9-4bf5-bbfe-ffcf30c0bfa8",
   "metadata": {},
   "outputs": [
    {
     "data": {
      "text/plain": [
       "array([1., 2.])"
      ]
     },
     "execution_count": 3,
     "metadata": {},
     "output_type": "execute_result"
    }
   ],
   "source": [
    "# Solving by A * x = b\n",
    "\n",
    "# Find A_inv -> A * A_inv * x = A_inv * b -> x = A_inv * b\n",
    "# 1. Find A_inv\n",
    "A_inv = np.linalg.inv(A)\n",
    "# 2. Find x\n",
    "x = np.dot(A_inv, b)\n",
    "x"
   ]
  },
  {
   "cell_type": "code",
   "execution_count": 4,
   "id": "366b3d9f-65e0-4eae-af4c-512ace6c8b15",
   "metadata": {},
   "outputs": [
    {
     "data": {
      "text/plain": [
       "array([ 5., 11.])"
      ]
     },
     "execution_count": 4,
     "metadata": {},
     "output_type": "execute_result"
    }
   ],
   "source": [
    "# Verify the solution with A * x = b\n",
    "np.dot(A, x) # should be equal to vector b"
   ]
  },
  {
   "cell_type": "markdown",
   "id": "0f5a57a1-a1f8-439f-b374-fa6ccf231878",
   "metadata": {},
   "source": [
    "### Inverse and Determinant"
   ]
  },
  {
   "cell_type": "code",
   "execution_count": 5,
   "id": "4069abbb-b242-43b5-bd2d-c6732b3bb877",
   "metadata": {},
   "outputs": [],
   "source": [
    "A = np.array([[1, 2], [3, 4]])\n",
    "B = np.array([[3, 2], [3, 2]])"
   ]
  },
  {
   "cell_type": "code",
   "execution_count": 6,
   "id": "0eb4c544-9c86-49a9-bc13-0d65b3800048",
   "metadata": {},
   "outputs": [
    {
     "data": {
      "text/plain": [
       "-2.0000000000000004"
      ]
     },
     "execution_count": 6,
     "metadata": {},
     "output_type": "execute_result"
    }
   ],
   "source": [
    "# Non singular matrix - Determinant non zero -> A_inv cannot be computed\n",
    "np.linalg.det(A)"
   ]
  },
  {
   "cell_type": "code",
   "execution_count": 7,
   "id": "02c1cf20-437d-4437-aa39-770a0e8a594f",
   "metadata": {},
   "outputs": [
    {
     "data": {
      "text/plain": [
       "array([[-2. ,  1. ],\n",
       "       [ 1.5, -0.5]])"
      ]
     },
     "execution_count": 7,
     "metadata": {},
     "output_type": "execute_result"
    }
   ],
   "source": [
    "np.linalg.inv(A)"
   ]
  },
  {
   "cell_type": "code",
   "execution_count": 8,
   "id": "05969596-a310-44e0-af6d-2be7a1e8c5d2",
   "metadata": {},
   "outputs": [
    {
     "data": {
      "text/plain": [
       "0.0"
      ]
     },
     "execution_count": 8,
     "metadata": {},
     "output_type": "execute_result"
    }
   ],
   "source": [
    "# Singular matrix - Determinant zero -> A_inv cannot be computed\n",
    "np.linalg.det(B)"
   ]
  },
  {
   "cell_type": "code",
   "execution_count": null,
   "id": "aa6e81d8-5217-4ec6-a14d-df58535c484b",
   "metadata": {},
   "outputs": [],
   "source": []
  }
 ],
 "metadata": {
  "kernelspec": {
   "display_name": "Python 3 (ipykernel)",
   "language": "python",
   "name": "python3"
  },
  "language_info": {
   "codemirror_mode": {
    "name": "ipython",
    "version": 3
   },
   "file_extension": ".py",
   "mimetype": "text/x-python",
   "name": "python",
   "nbconvert_exporter": "python",
   "pygments_lexer": "ipython3",
   "version": "3.9.18"
  }
 },
 "nbformat": 4,
 "nbformat_minor": 5
}
