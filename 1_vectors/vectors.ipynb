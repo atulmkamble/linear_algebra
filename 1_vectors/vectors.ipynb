{
 "cells": [
  {
   "cell_type": "markdown",
   "id": "c8d77399-29ee-4c85-8afd-25e9df711687",
   "metadata": {},
   "source": [
    "### 1. Basics"
   ]
  },
  {
   "cell_type": "code",
   "execution_count": 1,
   "id": "f7a916d8-abb4-4973-b351-ac32cd5e2bec",
   "metadata": {},
   "outputs": [],
   "source": [
    "import numpy as np\n",
    "from numpy import linalg"
   ]
  },
  {
   "cell_type": "code",
   "execution_count": 2,
   "id": "7e11d436-636a-4909-8e52-8960dc859356",
   "metadata": {},
   "outputs": [],
   "source": [
    "a = np.array([20, 40, 60])\n",
    "b = np.array([10, 20, 30])\n",
    "c = np.array([5, 10, 15, 20])"
   ]
  },
  {
   "cell_type": "code",
   "execution_count": 3,
   "id": "9179ff70-d4e9-421f-b795-5a481900c0ae",
   "metadata": {},
   "outputs": [
    {
     "data": {
      "text/plain": [
       "array([30, 60, 90])"
      ]
     },
     "execution_count": 3,
     "metadata": {},
     "output_type": "execute_result"
    }
   ],
   "source": [
    "# Vector addition\n",
    "a + b"
   ]
  },
  {
   "cell_type": "code",
   "execution_count": 4,
   "id": "6437ce2c-c1ad-40ef-a370-8a85c9050ae7",
   "metadata": {},
   "outputs": [
    {
     "data": {
      "text/plain": [
       "array([10, 20, 30])"
      ]
     },
     "execution_count": 4,
     "metadata": {},
     "output_type": "execute_result"
    }
   ],
   "source": [
    "# Vector subtraction\n",
    "a - b"
   ]
  },
  {
   "cell_type": "code",
   "execution_count": 5,
   "id": "d66b1fa9-9a12-4942-92be-baa43b166d4e",
   "metadata": {},
   "outputs": [
    {
     "data": {
      "text/plain": [
       "array([ 200,  800, 1800])"
      ]
     },
     "execution_count": 5,
     "metadata": {},
     "output_type": "execute_result"
    }
   ],
   "source": [
    "# Vector multiplication\n",
    "a * b"
   ]
  },
  {
   "cell_type": "code",
   "execution_count": 6,
   "id": "190f3a76-a7c5-4d24-8b41-1f436c568e5f",
   "metadata": {},
   "outputs": [
    {
     "data": {
      "text/plain": [
       "array([10, 20, 30])"
      ]
     },
     "execution_count": 6,
     "metadata": {},
     "output_type": "execute_result"
    }
   ],
   "source": [
    "# Vector divison\n",
    "a - b"
   ]
  },
  {
   "cell_type": "code",
   "execution_count": 7,
   "id": "91910432-da69-4261-b467-70b88d4eb5ae",
   "metadata": {},
   "outputs": [
    {
     "data": {
      "text/plain": [
       "[10, 20, 30, 10, 20, 30]"
      ]
     },
     "execution_count": 7,
     "metadata": {},
     "output_type": "execute_result"
    }
   ],
   "source": [
    "# Scalar x Vector\n",
    "scalar = 2\n",
    "a_list_vector = [10, 20, 30]\n",
    "# Scalar x list vector repeats the list\n",
    "scalar * a_list_vector"
   ]
  },
  {
   "cell_type": "code",
   "execution_count": 8,
   "id": "973aab10-7e36-46a6-bf3b-e8112961939b",
   "metadata": {},
   "outputs": [
    {
     "data": {
      "text/plain": [
       "array([20, 40, 60])"
      ]
     },
     "execution_count": 8,
     "metadata": {},
     "output_type": "execute_result"
    }
   ],
   "source": [
    "# Scalar x Vector\n",
    "scalar = 2\n",
    "a_numpy_array_vector = np.array([10, 20, 30])\n",
    "# Scalar x numpy array vector gives the required result\n",
    "scalar * a_numpy_array_vector"
   ]
  },
  {
   "cell_type": "markdown",
   "id": "51cf1087-5ff6-4d2a-9ade-056dcc55a6d9",
   "metadata": {},
   "source": [
    "### Dot Product of Vectors"
   ]
  },
  {
   "cell_type": "code",
   "execution_count": 9,
   "id": "ab09714a-5378-4150-b80d-1d83a9185a9a",
   "metadata": {},
   "outputs": [],
   "source": [
    "x = np.array([1, 2, 3, 4, 5])\n",
    "y = np.array([6, 7, 8, 9, 10])\n",
    "z = np.array([11, 12, 13, 14, 15])"
   ]
  },
  {
   "cell_type": "code",
   "execution_count": 10,
   "id": "608572df-e905-42d4-8529-d6b96c9fbaa0",
   "metadata": {},
   "outputs": [
    {
     "data": {
      "text/plain": [
       "130"
      ]
     },
     "execution_count": 10,
     "metadata": {},
     "output_type": "execute_result"
    }
   ],
   "source": [
    "# Dot product\n",
    "np.dot(x, y)"
   ]
  },
  {
   "cell_type": "code",
   "execution_count": 11,
   "id": "4101626b-8f02-4f43-a970-859b43746449",
   "metadata": {},
   "outputs": [
    {
     "data": {
      "text/plain": [
       "130"
      ]
     },
     "execution_count": 11,
     "metadata": {},
     "output_type": "execute_result"
    }
   ],
   "source": [
    "# Dot product commutative\n",
    "np.dot(y, x)"
   ]
  },
  {
   "cell_type": "code",
   "execution_count": 12,
   "id": "e0c7e4c6-bd99-43e4-9007-13b78054edca",
   "metadata": {},
   "outputs": [
    {
     "name": "stdout",
     "output_type": "stream",
     "text": [
      "335\n",
      "335\n"
     ]
    }
   ],
   "source": [
    "# Dot product distributive\n",
    "print(np.dot(x, y + z))\n",
    "print(np.dot(x, y) + np.dot(x, z))"
   ]
  },
  {
   "cell_type": "markdown",
   "id": "1107e245-a4f1-4f22-9eb4-c35ed48b2943",
   "metadata": {},
   "source": [
    "### Scalar and Vector Projection"
   ]
  },
  {
   "cell_type": "code",
   "execution_count": 13,
   "id": "29638f7b-8648-4541-884c-a1d64c898b28",
   "metadata": {},
   "outputs": [],
   "source": [
    "a = np.array([10, 20, 30, 40, 50])\n",
    "b = np.array([60, 70, 80, 90, 100])"
   ]
  },
  {
   "cell_type": "code",
   "execution_count": 14,
   "id": "35c59df0-47cd-4ad0-84cd-3c0b16811a7b",
   "metadata": {},
   "outputs": [
    {
     "data": {
      "text/plain": [
       "74.16198487095663"
      ]
     },
     "execution_count": 14,
     "metadata": {},
     "output_type": "execute_result"
    }
   ],
   "source": [
    "# Norm\n",
    "linalg.norm(a)"
   ]
  },
  {
   "cell_type": "code",
   "execution_count": 15,
   "id": "58f6e704-369a-4928-8ca1-3fe98b28a7e4",
   "metadata": {},
   "outputs": [
    {
     "name": "stdout",
     "output_type": "stream",
     "text": [
      "Scalar projection: 0.3939393939393939\n",
      "Vector projection: [23.63636364 27.57575758 31.51515152 35.45454545 39.39393939]\n"
     ]
    }
   ],
   "source": [
    "# Vector project of a onto b\n",
    "scalar_projection = (np.dot(a, b) / np.dot(b, b))\n",
    "# In order to get vector project we multiply the scalar projection with unit vector of b\n",
    "vector_projection = scalar_projection * b\n",
    "# (np.dot(a, b) / np.dot(b, b)) * b -> In one step\n",
    "print('Scalar projection:', scalar_projection)\n",
    "print('Vector projection:', vector_projection)"
   ]
  },
  {
   "cell_type": "code",
   "execution_count": null,
   "id": "7b1d0050-45ce-4b14-9ca4-1cc8089eee18",
   "metadata": {},
   "outputs": [],
   "source": []
  }
 ],
 "metadata": {
  "kernelspec": {
   "display_name": "Python 3 (ipykernel)",
   "language": "python",
   "name": "python3"
  },
  "language_info": {
   "codemirror_mode": {
    "name": "ipython",
    "version": 3
   },
   "file_extension": ".py",
   "mimetype": "text/x-python",
   "name": "python",
   "nbconvert_exporter": "python",
   "pygments_lexer": "ipython3",
   "version": "3.9.18"
  }
 },
 "nbformat": 4,
 "nbformat_minor": 5
}
