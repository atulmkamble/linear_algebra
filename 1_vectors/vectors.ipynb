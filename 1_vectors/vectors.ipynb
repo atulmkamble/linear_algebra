{
 "cells": [
  {
   "cell_type": "code",
   "execution_count": 1,
   "id": "f7a916d8-abb4-4973-b351-ac32cd5e2bec",
   "metadata": {},
   "outputs": [],
   "source": [
    "import numpy as np"
   ]
  },
  {
   "cell_type": "code",
   "execution_count": 2,
   "id": "7e11d436-636a-4909-8e52-8960dc859356",
   "metadata": {},
   "outputs": [],
   "source": [
    "a = np.array([20, 40, 60])\n",
    "b = np.array([10, 20, 30])\n",
    "c = np.array([5, 10, 15, 20])"
   ]
  },
  {
   "cell_type": "code",
   "execution_count": 3,
   "id": "9179ff70-d4e9-421f-b795-5a481900c0ae",
   "metadata": {},
   "outputs": [
    {
     "data": {
      "text/plain": [
       "array([30, 60, 90])"
      ]
     },
     "execution_count": 3,
     "metadata": {},
     "output_type": "execute_result"
    }
   ],
   "source": [
    "# Vector addition\n",
    "a + b"
   ]
  },
  {
   "cell_type": "code",
   "execution_count": 4,
   "id": "6437ce2c-c1ad-40ef-a370-8a85c9050ae7",
   "metadata": {},
   "outputs": [
    {
     "data": {
      "text/plain": [
       "array([10, 20, 30])"
      ]
     },
     "execution_count": 4,
     "metadata": {},
     "output_type": "execute_result"
    }
   ],
   "source": [
    "# Vector subtraction\n",
    "a - b"
   ]
  },
  {
   "cell_type": "code",
   "execution_count": 5,
   "id": "d66b1fa9-9a12-4942-92be-baa43b166d4e",
   "metadata": {},
   "outputs": [
    {
     "data": {
      "text/plain": [
       "array([ 200,  800, 1800])"
      ]
     },
     "execution_count": 5,
     "metadata": {},
     "output_type": "execute_result"
    }
   ],
   "source": [
    "# Vector multiplication\n",
    "a * b"
   ]
  },
  {
   "cell_type": "code",
   "execution_count": 6,
   "id": "190f3a76-a7c5-4d24-8b41-1f436c568e5f",
   "metadata": {},
   "outputs": [
    {
     "data": {
      "text/plain": [
       "array([10, 20, 30])"
      ]
     },
     "execution_count": 6,
     "metadata": {},
     "output_type": "execute_result"
    }
   ],
   "source": [
    "# Vector divison\n",
    "a - b"
   ]
  },
  {
   "cell_type": "code",
   "execution_count": 8,
   "id": "91910432-da69-4261-b467-70b88d4eb5ae",
   "metadata": {},
   "outputs": [
    {
     "data": {
      "text/plain": [
       "[10, 20, 30, 10, 20, 30]"
      ]
     },
     "execution_count": 8,
     "metadata": {},
     "output_type": "execute_result"
    }
   ],
   "source": [
    "# Scalar x Vector\n",
    "scalar = 2\n",
    "a_list_vector = [10, 20, 30]\n",
    "# Scalar x list vector repeats the list\n",
    "scalar * a_list_vector"
   ]
  },
  {
   "cell_type": "code",
   "execution_count": 10,
   "id": "973aab10-7e36-46a6-bf3b-e8112961939b",
   "metadata": {},
   "outputs": [
    {
     "data": {
      "text/plain": [
       "array([20, 40, 60])"
      ]
     },
     "execution_count": 10,
     "metadata": {},
     "output_type": "execute_result"
    }
   ],
   "source": [
    "# Scalar x Vector\n",
    "scalar = 2\n",
    "a_numpy_array_vector = np.array([10, 20, 30])\n",
    "# Scalar x numpy array vector gives the required result\n",
    "scalar * a_numpy_array_vector"
   ]
  },
  {
   "cell_type": "code",
   "execution_count": null,
   "id": "b805b5c8-cf58-4b88-814f-258ff1c3f899",
   "metadata": {},
   "outputs": [],
   "source": []
  }
 ],
 "metadata": {
  "kernelspec": {
   "display_name": "Python 3 (ipykernel)",
   "language": "python",
   "name": "python3"
  },
  "language_info": {
   "codemirror_mode": {
    "name": "ipython",
    "version": 3
   },
   "file_extension": ".py",
   "mimetype": "text/x-python",
   "name": "python",
   "nbconvert_exporter": "python",
   "pygments_lexer": "ipython3",
   "version": "3.9.18"
  }
 },
 "nbformat": 4,
 "nbformat_minor": 5
}
